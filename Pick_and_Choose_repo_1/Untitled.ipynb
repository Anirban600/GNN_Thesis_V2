{
 "cells": [
  {
   "cell_type": "code",
   "execution_count": 4,
   "id": "64440d40-42ae-4de9-92a0-b27288ff3c57",
   "metadata": {
    "tags": []
   },
   "outputs": [
    {
     "name": "stdout",
     "output_type": "stream",
     "text": [
      "/home/anirban/From_Scratch/Pick_and_Choose/PC-GNN\n"
     ]
    }
   ],
   "source": [
    "%cd \"PC-GNN\""
   ]
  },
  {
   "cell_type": "code",
   "execution_count": 7,
   "id": "9fc815d8-e8bc-4a3d-91ca-a9ea19c9d3c3",
   "metadata": {
    "tags": []
   },
   "outputs": [
    {
     "name": "stdout",
     "output_type": "stream",
     "text": [
      "**************** MODEL CONFIGURATION ****************\n",
      "alpha                    -->   2\n",
      "batch_size               -->   1024\n",
      "cuda_id                  -->   2\n",
      "data_dir                 -->   ./data/\n",
      "data_name                -->   yelp\n",
      "emb_size                 -->   64\n",
      "lr                       -->   0.01\n",
      "model                    -->   PCGNN\n",
      "multi_relation           -->   GNN\n",
      "no_cuda                  -->   True\n",
      "num_epochs               -->   51\n",
      "optimizer                -->   adam\n",
      "rho                      -->   0.5\n",
      "save_dir                 -->   ./pytorch_models/\n",
      "seed                     -->   72\n",
      "test_ratio               -->   0.67\n",
      "thres                    -->   0.5\n",
      "train_ratio              -->   0.4\n",
      "valid_epochs             -->   5\n",
      "weight_decay             -->   0.001\n",
      "**************** MODEL CONFIGURATION ****************\n",
      "Traceback (most recent call last):\n",
      "  File \"/home/anirban/anaconda3/envs/myenv/lib/python3.10/site-packages/scipy/io/matlab/_mio.py\", line 39, in _open_file\n",
      "    return open(file_like, mode), True\n",
      "FileNotFoundError: [Errno 2] No such file or directory: './data/YelpChi.mat'\n",
      "\n",
      "During handling of the above exception, another exception occurred:\n",
      "\n",
      "Traceback (most recent call last):\n",
      "  File \"/home/anirban/From_Scratch/Pick_and_Choose/PC-GNN/main.py\", line 148, in <module>\n",
      "    main(config)\n",
      "  File \"/home/anirban/From_Scratch/Pick_and_Choose/PC-GNN/main.py\", line 24, in main\n",
      "    model = ModelHandler(config)\n",
      "  File \"/home/anirban/From_Scratch/Pick_and_Choose/PC-GNN/src/model_handler.py\", line 26, in __init__\n",
      "    [homo, relation1, relation2, relation3], feat_data, labels = load_data(args.data_name, prefix=args.data_dir)\n",
      "  File \"/home/anirban/From_Scratch/Pick_and_Choose/PC-GNN/src/utils.py\", line 23, in load_data\n",
      "    data_file = loadmat(prefix + 'YelpChi.mat')\n",
      "  File \"/home/anirban/anaconda3/envs/myenv/lib/python3.10/site-packages/scipy/io/matlab/_mio.py\", line 224, in loadmat\n",
      "    with _open_file_context(file_name, appendmat) as f:\n",
      "  File \"/home/anirban/anaconda3/envs/myenv/lib/python3.10/contextlib.py\", line 135, in __enter__\n",
      "    return next(self.gen)\n",
      "  File \"/home/anirban/anaconda3/envs/myenv/lib/python3.10/site-packages/scipy/io/matlab/_mio.py\", line 17, in _open_file_context\n",
      "    f, opened = _open_file(file_like, appendmat, mode)\n",
      "  File \"/home/anirban/anaconda3/envs/myenv/lib/python3.10/site-packages/scipy/io/matlab/_mio.py\", line 45, in _open_file\n",
      "    return open(file_like, mode), True\n",
      "FileNotFoundError: [Errno 2] No such file or directory: './data/YelpChi.mat'\n"
     ]
    }
   ],
   "source": [
    "!python3 main.py --config ./config/pcgnn_yelpchi.yml"
   ]
  }
 ],
 "metadata": {
  "kernelspec": {
   "display_name": "Python 3 (ipykernel)",
   "language": "python",
   "name": "python3"
  },
  "language_info": {
   "codemirror_mode": {
    "name": "ipython",
    "version": 3
   },
   "file_extension": ".py",
   "mimetype": "text/x-python",
   "name": "python",
   "nbconvert_exporter": "python",
   "pygments_lexer": "ipython3",
   "version": "3.10.8"
  }
 },
 "nbformat": 4,
 "nbformat_minor": 5
}
