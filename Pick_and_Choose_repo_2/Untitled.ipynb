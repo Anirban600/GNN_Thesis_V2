{
 "cells": [
  {
   "cell_type": "code",
   "execution_count": 4,
   "id": "a6f1aac3-6366-49b2-8b19-1c2c7dcdf964",
   "metadata": {
    "tags": []
   },
   "outputs": [
    {
     "name": "stdout",
     "output_type": "stream",
     "text": [
      "/home/anirban/From_Scratch/Pick_and_Choose_repo_2/main.py:56: FutureWarning: adjacency_matrix will return a scipy.sparse array instead of a matrix in Networkx 3.0.\n",
      "  A=np.array(adjacency_matrix(G).todense()), labels=labels\n",
      "0 0.068\n",
      "1 0.068\n",
      "2 0.0556\n",
      "3 0.0661\n",
      "4 0.0568\n",
      "5 0.0657\n",
      "6 0.0657\n",
      "7 0.0497\n",
      "8 0.3651\n",
      "9 0.3307\n",
      "10 0.0568\n",
      ">>>> Done <<<<\n",
      "[0] loss=0.6997 f1=0.35294117647058826\n",
      "[10] loss=0.5706 f1=0.8705882352941177\n",
      "[20] loss=0.5282 f1=1.0\n",
      "[30] loss=0.5082 f1=1.0\n",
      "[40] loss=0.4999 f1=1.0\n",
      "[50] loss=0.4963 f1=1.0\n",
      "[60] loss=0.4944 f1=1.0\n",
      "[70] loss=0.4933 f1=1.0\n",
      "[80] loss=0.4926 f1=1.0\n",
      "[90] loss=0.4920 f1=1.0\n",
      "[99] loss=0.4917 f1=1.0\n",
      "majority class\n",
      "undersample\n",
      "u=9 v=3 d(u,v)=0.45512011647224426 rho_minus=0.0040198564529418945\n",
      "u=2 v=3 d(u,v)=0.0064653754234313965 rho_minus=0.0040198564529418945\n",
      "u=10 v=3 d(u,v)=0.0005493760108947754 rho_minus=0.0040198564529418945\n",
      "u=4 v=3 d(u,v)=0.0015743374824523926 rho_minus=0.0040198564529418945\n",
      "[3, 10, 4]\n",
      "[(3, 10), (3, 4)]\n",
      "minority class\n",
      "undersample\n",
      "u=0 v=9 d(u,v)=0.44926562905311584 rho_minus=0.45131951570510864\n",
      "u=1 v=9 d(u,v)=0.45337340235710144 rho_minus=0.45131951570510864\n",
      "u=2 v=9 d(u,v)=0.44865474104881287 rho_minus=0.45131951570510864\n",
      "u=3 v=9 d(u,v)=0.45512011647224426 rho_minus=0.45131951570510864\n",
      "[9, 0, 2]\n",
      "[(9, 0), (9, 2)]\n",
      "oversample\n",
      "u=8 v=9 d(u,v)=0.0005527138710021973 rho_plus=0.0005527138710021973\n",
      "[9, 8]\n",
      "[(9, 8)]\n",
      "final graph\n",
      "[9, 0, 2, 8]\n",
      "[(9, 0), (9, 2), (9, 8)]\n",
      "majority class\n",
      "undersample\n",
      "u=1 v=0 d(u,v)=0.004107773303985596 rho_minus=0.22668670117855072\n",
      "u=9 v=0 d(u,v)=0.44926562905311584 rho_minus=0.22668670117855072\n",
      "[0, 1]\n",
      "[(0, 1)]\n",
      "Traceback (most recent call last):\n",
      "  File \"/home/anirban/From_Scratch/Pick_and_Choose_repo_2/main.py\", line 90, in <module>\n",
      "    main()\n",
      "  File \"/home/anirban/From_Scratch/Pick_and_Choose_repo_2/main.py\", line 86, in main\n",
      "    print(message_passing.execute())\n",
      "  File \"/home/anirban/From_Scratch/Pick_and_Choose_repo_2/pac_gnn/aggregate.py\", line 124, in execute\n",
      "    self._update_h_v_r_l(v, v_graph, relation, layer)\n",
      "  File \"/home/anirban/From_Scratch/Pick_and_Choose_repo_2/pac_gnn/aggregate.py\", line 94, in _update_h_v_r_l\n",
      "    self.h_v_r_l[v, relation, layer] = self._relu(\n",
      "ValueError: could not broadcast input array from shape (10,20) into shape (11,10)\n"
     ]
    }
   ],
   "source": [
    "!python3 main.py"
   ]
  }
 ],
 "metadata": {
  "kernelspec": {
   "display_name": "Python 3 (ipykernel)",
   "language": "python",
   "name": "python3"
  },
  "language_info": {
   "codemirror_mode": {
    "name": "ipython",
    "version": 3
   },
   "file_extension": ".py",
   "mimetype": "text/x-python",
   "name": "python",
   "nbconvert_exporter": "python",
   "pygments_lexer": "ipython3",
   "version": "3.10.8"
  }
 },
 "nbformat": 4,
 "nbformat_minor": 5
}
